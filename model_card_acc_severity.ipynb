{
 "cells": [
  {
   "cell_type": "markdown",
   "id": "ed5f457a",
   "metadata": {},
   "source": [
    "# Model Card\n",
    "\n",
    "# Predicting the Severity of Road Traffic Collisions\n",
    "\n",
    "## Using machine learning methods to determine the most important factors in determining the severity of road traffic collisions\n",
    "\n",
    "The purpose of this notebook is to gather and explore data related to road traffic collisions in the United Kingdom.  Furthermore, to conduct analysis on the data to determine the combination of factors that lead to the most severe outcomes.\n",
    "\n",
    "A model of this nature could be used for example to support the insurance industry to determine premium prices.  Similarly, a model of this nature could be used to direct road safety campaigns or interventions toward the factors leading to the most serious of incidents. \n",
    "\n",
    "\n",
    "\n"
   ]
  },
  {
   "cell_type": "markdown",
   "id": "b9091e5d",
   "metadata": {},
   "source": [
    "## Model Description\n",
    "\n",
    "**Input:** The model used three separate datasets: Vehicles0515.csv, Casualties0515.csv, Accidents0515.csv.  The dats is taken from https://data.gov.uk/dataset/road-accidents-safety-data\n",
    "\n",
    "**Output:** The model outputs a series or predictions of accuracy of the model in determining the feaures that lead to the most sever accidents.  It allows the user to determine which feature has the greatest impact resulting in the most severe injuries.\n",
    "\n",
    "**Model Architecture:** The model uses a number of solutions:\n",
    "\n",
    "Recursive Feature Elimination to determine what features are most important to the model\n",
    "\n",
    "Grid Search to manage hyperparameter optimisation\n",
    "\n",
    "SMOTE sampling to address the class imbalance in the dataset, where the incidence of fatal or severe accidents was underrepresented.  SMOTE works to solve this issue by generating synthetic examples of the minority class.\n",
    "\n",
    "Decision trees to model the data, predict outputs and determine accuracy scores.\n",
    "\n",
    "To a lesser extent, Random Forests to model the data, predict outputs and determine accuracy scores."
   ]
  },
  {
   "cell_type": "markdown",
   "id": "8aa0237d",
   "metadata": {},
   "source": [
    "\n",
    "## Performance\n",
    "\n",
    "The model offered average performance in terms of accuracy scores.  The following table outllines the accuracy at each depth of the table. \n",
    "\n",
    "Depth: 1 Train Score: 0.43649653909719527 Validation Score: 0.5456720864385459\n",
    "\n",
    "Depth: 2 Train Score: 0.44881809682541346 Validation Score: 0.668937819040674\n",
    "\n",
    "Depth: 3 Train Score: 0.4657781927433601 Validation Score: 0.40306683314182473\n",
    "\n",
    "Depth: 4 Train Score: 0.4813963059411125 Validation Score: 0.6119563578013462\n",
    "\n",
    "Depth: 5 Train Score: 0.485491262511986 Validation Score: 0.5993929772568605\n",
    "\n",
    "Depth: 6 Train Score: 0.4896926642437602 Validation Score: 0.570578055443691\n",
    "\n",
    "Depth: 7 Train Score: 0.49109267392739964 Validation Score: 0.5793522084650441\n",
    "\n",
    "Depth: 8 Train Score: 0.4927974187610033 Validation Score: 0.5455896781255685\n",
    "\n",
    "Depth: 9 Train Score: 0.49355314196664735 Validation Score: 0.5459162016298188\n",
    "\n",
    "Depth: 10 Train Score: 0.4942880253811186 Validation Score: 0.5482407380053146\n",
    "\n",
    "Best Depth: 2 with Validation Score: 0.668937819040674\n",
    "\n",
    "The maximum score achieved was 69%.  However, this did not accuractly represent the data as class 2 was ruled out.  For thise reason, I went to a depth of 4 which achieved an accuracy of 61%.  This would need to be improved upon before deployment.  The first step i would take on this is increased feature engineering."
   ]
  },
  {
   "cell_type": "markdown",
   "id": "d62a6988",
   "metadata": {},
   "source": [
    "\n",
    "## Limitations\n",
    "\n",
    "This model does feature some limitations:\n",
    "\n",
    "Imbalanced Data: The cases of minor injuries significnatly outnumbers the others.  New data will require careful smapling.\n",
    "\n",
    "Computational Resources: I have had to rule out some additional modelling due to resource constraints.  For the same reason, I had to used a reduced feature set.  Further improvement will come with significant resource requirments.  \n",
    "\n",
    "Ethical Considerations: This model will come with a number of eticial concerns.  It is fully anonymised but there is a risk of unintentional biases being present in the training data.\n",
    "\n",
    "Model concept Drift: The model has many applications but it can become possible to drift from the original purpose and not accurately represent the function as originally intended.\n",
    "\n",
    "Generalisation:  The model may not generalise well to new data, primarily due to the imbalance in the data."
   ]
  },
  {
   "cell_type": "markdown",
   "id": "cd068bb5",
   "metadata": {},
   "source": [
    "\n",
    "## Trade-offs\n",
    "\n",
    "There are a number of tradeoffs on this model:\n",
    "\n",
    "Firstly, the use of data, selection of model v the resource constraints.  This model has cut down on the number of features and avoided running a grid search on significant hyperparameters due to the significant resource constraints.  The model simply didn't complete when all available options were used.  For this reason, it has been limited to decision trees and the most effective features used following recursive feature elimination.\n",
    "\n",
    "Model depth for accuracy v proper represenation of the data.  The depths offering the best value for accuracy were omitted as it led to a mis-representation of the data.  There was a tradeoff between deciding on an acceptable accuracy whilst ensuring the all classes as sampled were properly represented.\n"
   ]
  }
 ],
 "metadata": {
  "kernelspec": {
   "display_name": "Python 3 (ipykernel)",
   "language": "python",
   "name": "python3"
  },
  "language_info": {
   "codemirror_mode": {
    "name": "ipython",
    "version": 3
   },
   "file_extension": ".py",
   "mimetype": "text/x-python",
   "name": "python",
   "nbconvert_exporter": "python",
   "pygments_lexer": "ipython3",
   "version": "3.9.13"
  }
 },
 "nbformat": 4,
 "nbformat_minor": 5
}
